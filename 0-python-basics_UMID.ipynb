{
 "cells": [
  {
   "cell_type": "markdown",
   "metadata": {},
   "source": [
    "# 0. Hello, Python! (Basic Data Types)\n",
    "\n",
    "This is a Python refresher notebook. It covers the basic data types in Python."
   ]
  },
  {
   "cell_type": "code",
   "execution_count": 6,
   "metadata": {},
   "outputs": [
    {
     "name": "stdout",
     "output_type": "stream",
     "text": [
      "3\n"
     ]
    },
    {
     "data": {
      "text/plain": [
       "bool"
      ]
     },
     "execution_count": 6,
     "metadata": {},
     "output_type": "execute_result"
    }
   ],
   "source": [
    "# --- Numeric Types ---\n",
    "# Integer\n",
    "a = 4\n",
    "\n",
    "# Float\n",
    "b = 3.145\n",
    "\n",
    "# Complex\n",
    "c = 5+3j\n",
    "\n",
    "# --- String and Character ---\n",
    "# String\n",
    "d = 'Diddy'\n",
    "\n",
    "# Character (In Python, a single character is just a string of length 1)\n",
    "e = ':'\n",
    "\n",
    "# --- Boolean ---\n",
    "# Boolean values\n",
    "f = True\n",
    "g = False\n",
    "\n",
    "# --- Arrays (Lists) ---\n",
    "# List\n",
    "h = [1, 2, 3, 4]\n",
    "\n",
    "# Accessing list elements\n",
    "print(h[2])\n",
    "\n",
    "# Adding to a list\n",
    "h.append(5)\n",
    "h\n",
    "# --- Objects (using classes) ---\n",
    "\n",
    "\n",
    "# Create an object of the Person class\n",
    "class MyClass:\n",
    "  x = 5\n",
    "\n",
    "# --- Type Conversion ---\n",
    "# Convert integer to float\n",
    "i = 5\n",
    "float(i)\n",
    "# Convert float to integer (truncates the decimal part)\n",
    "g = 8\n",
    "int(g)\n",
    "\n",
    "# Convert boolean to integer\n",
    "h = False\n",
    "int(h)\n",
    "\n",
    "# --- Type Checking ---\n",
    "type(h)"
   ]
  },
  {
   "cell_type": "markdown",
   "metadata": {},
   "source": [
    "# 1. Hello, World! (First Program)\n",
    "\n",
    "This is a simple introduction to Python syntax and the print() function."
   ]
  },
  {
   "cell_type": "code",
   "execution_count": 7,
   "metadata": {},
   "outputs": [
    {
     "name": "stdout",
     "output_type": "stream",
     "text": [
      "Hello, World!\n"
     ]
    }
   ],
   "source": [
    "# Basic \"Hello, World!\" example\n",
    "print('Hello, World!')"
   ]
  },
  {
   "cell_type": "markdown",
   "metadata": {},
   "source": [
    "# 2. Basic Math Operations\n",
    "\n",
    "Introduce variables and arithmetic operators."
   ]
  },
  {
   "cell_type": "code",
   "execution_count": 9,
   "metadata": {},
   "outputs": [],
   "source": [
    "# Simple math operations\n",
    "a = 8\n",
    "b = 6\n",
    "\n",
    "# Addition\n",
    "c = a + b\n",
    "# Subtraction\n",
    "g = a - b\n",
    "# Multiplication\n",
    "f = a * b\n",
    "# Division\n",
    "h = a / b"
   ]
  },
  {
   "cell_type": "markdown",
   "metadata": {},
   "source": [
    "# 3. Getting User Input\n",
    "\n",
    "Demonstrates how to interact with the user via input()."
   ]
  },
  {
   "cell_type": "code",
   "execution_count": 16,
   "metadata": {},
   "outputs": [
    {
     "name": "stdout",
     "output_type": "stream",
     "text": [
      "Input a number: 5\n",
      "Input a second number: 48\n",
      "Sum of your numbers is 53\n"
     ]
    }
   ],
   "source": [
    "# Getting user input and using it\n",
    "a = int(input('Input a number: '))\n",
    "b = int(input('Input a second number: '))\n",
    "# Working with numbers\n",
    "print(f\"Sum of your numbers is {a + b}\")"
   ]
  },
  {
   "cell_type": "markdown",
   "metadata": {},
   "source": [
    "# 4. If Statements (Conditionals)\n",
    "\n",
    "Introduce the concept of decision-making using if, else, and elif."
   ]
  },
  {
   "cell_type": "code",
   "execution_count": 17,
   "metadata": {},
   "outputs": [
    {
     "name": "stdout",
     "output_type": "stream",
     "text": [
      "a is less than b\n"
     ]
    }
   ],
   "source": [
    "# Basic if-else example\n",
    "a = 5\n",
    "b = 6\n",
    "if a > b:\n",
    "    print(\"a is bigger than b\")\n",
    "else: \n",
    "    print(\"a is less than b\")"
   ]
  },
  {
   "cell_type": "markdown",
   "metadata": {},
   "source": [
    "# 5. For Loop (Iteration)\n",
    "\n",
    "A basic introduction to loops with a for loop that repeats a certain number of times."
   ]
  },
  {
   "cell_type": "code",
   "execution_count": 19,
   "metadata": {},
   "outputs": [
    {
     "name": "stdout",
     "output_type": "stream",
     "text": [
      "False\n",
      "False\n",
      "False\n",
      "False\n",
      "True\n"
     ]
    }
   ],
   "source": [
    "# Basic for loop example\n",
    "g = [4, 5, 6, 3, 88]\n",
    "for i in g:\n",
    "    print(i > 80)"
   ]
  },
  {
   "cell_type": "markdown",
   "metadata": {},
   "source": [
    "# 6. While Loop (Iteration with Condition)\n",
    "\n",
    "Demonstrates a loop that runs until a condition is met."
   ]
  },
  {
   "cell_type": "code",
   "execution_count": 20,
   "metadata": {},
   "outputs": [
    {
     "name": "stdout",
     "output_type": "stream",
     "text": [
      "Count: 0\n",
      "Count: 1\n",
      "Count: 2\n",
      "Count: 3\n",
      "Count: 4\n"
     ]
    }
   ],
   "source": [
    "# Basic while loop example\n",
    "count = 0\n",
    "\n",
    "while count < 5:\n",
    "    print(\"Count:\", count)\n",
    "    count += 1"
   ]
  },
  {
   "cell_type": "markdown",
   "metadata": {},
   "source": [
    "# 7. Basic Function Example\n",
    "\n",
    "Introducing how to write and call functions."
   ]
  },
  {
   "cell_type": "code",
   "execution_count": 21,
   "metadata": {},
   "outputs": [
    {
     "name": "stdout",
     "output_type": "stream",
     "text": [
      "Please enter your name: Diddy\n",
      "Hello, Diddy! It's nice to meet you.\n"
     ]
    }
   ],
   "source": [
    "# Function to greet the user\n",
    "def greet_user(name):\n",
    "    return f\"Hello, {name}! It's nice to meet you.\"\n",
    "\n",
    "# Example usage:\n",
    "user_name = input(\"Please enter your name: \")\n",
    "greeting = greet_user(user_name)\n",
    "print(greeting)"
   ]
  },
  {
   "cell_type": "markdown",
   "metadata": {},
   "source": [
    "# 8. Simple Temperature Converter\n",
    "\n",
    "Combines input, conditionals, and functions in a real-world example."
   ]
  },
  {
   "cell_type": "code",
   "execution_count": 29,
   "metadata": {},
   "outputs": [
    {
     "name": "stdout",
     "output_type": "stream",
     "text": [
      "Введите температуру в градусах Цельсия: 25\n",
      "25.0°C соответствует 77.0°F\n"
     ]
    }
   ],
   "source": [
    "# Function to convert Celsius to Fahrenheit\n",
    "def celsius_to_fahrenheit():\n",
    "    # Запрашиваем у пользователя ввод температуры в Цельсиях\n",
    "    try:\n",
    "        celsius = float(input(\"Введите температуру в градусах Цельсия: \"))\n",
    "        \n",
    "        # Конвертируем в Фаренгейты\n",
    "        fahrenheit = (celsius * 9/5) + 32\n",
    "        \n",
    "        # Выводим результат\n",
    "        print(f\"{celsius}°C соответствует {fahrenheit}°F\")\n",
    "    except ValueError:\n",
    "        print(\"Пожалуйста, введите числовое значение для температуры.\")\n",
    "\n",
    "# Вызов функции\n",
    "celsius_to_fahrenheit()"
   ]
  },
  {
   "cell_type": "markdown",
   "metadata": {},
   "source": [
    "# 9. Simple Guessing Game\n",
    "\n",
    "A fun exercise that involves loops, conditionals, and randomness."
   ]
  },
  {
   "cell_type": "code",
   "execution_count": 30,
   "metadata": {},
   "outputs": [
    {
     "name": "stdout",
     "output_type": "stream",
     "text": [
      "Guess the number between 1 and 10: 8\n",
      "Wrong( Please try again.\n",
      "Guess the number between 1 and 10: 1\n",
      "Wrong( Please try again.\n",
      "Guess the number between 1 and 10: 2\n",
      "Wrong( Please try again.\n",
      "Guess the number between 1 and 10: 3\n",
      "Wrong( Please try again.\n",
      "Guess the number between 1 and 10: 4\n",
      "Wrong( Please try again.\n",
      "Guess the number between 1 and 10: 5\n",
      "Congratulations! You guessed the number. \n"
     ]
    }
   ],
   "source": [
    "\n",
    "# Generate a random number between 1 and 10\n",
    "import random\n",
    "\n",
    "secret_number = random.randint(1, 10)\n",
    "guessed_correctly = False\n",
    "\n",
    "while not guessed_correctly:\n",
    "    try:\n",
    "        user_guess = int(input(\"Guess the number between 1 and 10: \"))\n",
    "        if user_guess < 1 or user_guess > 10:\n",
    "            print(\"Input a number between 1 and 10. \")\n",
    "        elif user_guess == secret_number:\n",
    "            print(\"Congratulations! You guessed the number. \")\n",
    "            guessed_correctly = True\n",
    "        else:\n",
    "            print(\"Wrong( Please try again.\")\n",
    "    except ValueError:\n",
    "        print(\"Please, input a whole number. \")"
   ]
  },
  {
   "cell_type": "markdown",
   "metadata": {},
   "source": [
    "# 10. FizzBuzz (Classic Example)\n",
    "\n",
    "A popular coding challenge that helps beginners practice conditionals and loops.\n",
    "\n",
    "**Problem Statement:**\n",
    "\n",
    "Print numbers from 1 to n, where n is a positive integer. For each number:\n",
    "\n",
    "- Print \"Fizz\" if the number is divisible by 3.\n",
    "- Print \"Buzz\" if the number is divisible by 5.\n",
    "- Print \"FizzBuzz\" if the number is divisible by both 3 and 5.\n",
    "- Print the number itself if it is not divisible by either 3 or 5."
   ]
  },
  {
   "cell_type": "code",
   "execution_count": 36,
   "metadata": {},
   "outputs": [
    {
     "name": "stdout",
     "output_type": "stream",
     "text": [
      "1\n",
      "2\n",
      "Fizz\n",
      "4\n",
      "Buzz\n",
      "Fizz\n",
      "7\n",
      "8\n",
      "Fizz\n",
      "Buzz\n",
      "11\n",
      "Fizz\n",
      "13\n",
      "14\n",
      "FizzBuzz\n"
     ]
    }
   ],
   "source": [
    "# FizzBuzz example\n",
    "def fizzbuzz(n):\n",
    "    for i in range(1, n + 1):\n",
    "        if i % 3 == 0 and i % 5 == 0:\n",
    "            print(\"FizzBuzz\")\n",
    "        elif i % 3 == 0:\n",
    "            print(\"Fizz\")\n",
    "        elif i % 5 == 0:\n",
    "            print(\"Buzz\")\n",
    "        else:\n",
    "            print(i)\n",
    "\n",
    "# Example\n",
    "n = 15\n",
    "fizzbuzz(n)"
   ]
  },
  {
   "cell_type": "markdown",
   "metadata": {},
   "source": [
    "# Bonus: Recursive Fibonacci Function\n",
    "\n",
    "A more advanced example that demonstrates recursion."
   ]
  },
  {
   "cell_type": "code",
   "execution_count": null,
   "metadata": {},
   "outputs": [],
   "source": [
    "def fibonacci(n):\n",
    "    # Base cases\n",
    "\n",
    "        # Recursive case: F(n) = F(n-1) + F(n-2)\n",
    "        \n",
    "\n",
    "# Example usage\n"
   ]
  },
  {
   "cell_type": "code",
   "execution_count": null,
   "metadata": {},
   "outputs": [],
   "source": []
  }
 ],
 "metadata": {
  "kernelspec": {
   "display_name": "Python 3 (ipykernel)",
   "language": "python",
   "name": "python3"
  },
  "language_info": {
   "codemirror_mode": {
    "name": "ipython",
    "version": 3
   },
   "file_extension": ".py",
   "mimetype": "text/x-python",
   "name": "python",
   "nbconvert_exporter": "python",
   "pygments_lexer": "ipython3",
   "version": "3.11.2"
  }
 },
 "nbformat": 4,
 "nbformat_minor": 2
}
